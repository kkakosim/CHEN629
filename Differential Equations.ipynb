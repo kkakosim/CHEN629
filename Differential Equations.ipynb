{
 "cells": [
  {
   "cell_type": "markdown",
   "metadata": {},
   "source": [
    "<h1>Differential Equations</h1>\n",
    "Solve a simple differential equation:\n",
    "$\\begin{align}\n",
    "y' &= 2xy\n",
    "\\end{align}$"
   ]
  },
  {
   "cell_type": "code",
   "execution_count": 70,
   "metadata": {},
   "outputs": [],
   "source": [
    "import numpy as np\n",
    "from scipy.integrate import solve_ivp\n",
    "import matplotlib.pyplot as plt\n",
    "from ode_helpers import state_plotter"
   ]
  },
  {
   "cell_type": "code",
   "execution_count": 136,
   "metadata": {},
   "outputs": [],
   "source": [
    "#global param1 param2 % parameters to be given to function dydt.\n",
    "def f(x, y):\n",
    "    dydx=2*x*y\n",
    "    return dydx"
   ]
  },
  {
   "cell_type": "code",
   "execution_count": 137,
   "metadata": {},
   "outputs": [
    {
     "name": "stdout",
     "output_type": "stream",
     "text": [
      "The solver successfully reached the end of the integration interval.\n"
     ]
    }
   ],
   "source": [
    "n = 100\n",
    "xspan = np.linspace(0, 2, n)\n",
    "y0 = np.array([1])\n",
    "c=1.\n",
    "\n",
    "sol = solve_ivp(lambda x, y:f(x,y),[xspan[0],xspan[-1]],y0, t_eval = xspan)\n",
    "\n",
    "if sol.status != 0:\n",
    "    print(\"WARNING: sol.status is %d\" % sol.status)\n",
    "print(sol.message)"
   ]
  },
  {
   "cell_type": "code",
   "execution_count": 135,
   "metadata": {},
   "outputs": [
    {
     "data": {
      "image/png": "[encoded data removed]",
      "text/plain": [
       "<Figure size 432x288 with 1 Axes>"
      ]
     },
     "metadata": {
      "needs_background": "light"
     },
     "output_type": "display_data"
    },
    {
     "data": {
      "image/png": "[encoded data removed]",
      "text/plain": [
       "<Figure size 432x288 with 1 Axes>"
      ]
     },
     "metadata": {
      "needs_background": "light"
     },
     "output_type": "display_data"
    }
   ],
   "source": [
    "#plt.subplot(2, 1, 1)\n",
    "plt.plot(sol.t, sol.y[0], color='#801010', label='$y_0(x)$')\n",
    "plt.grid(alpha=0.5)\n",
    "plt.legend(framealpha=1, shadow=True)\n",
    "plt.show()\n",
    "state_plotter(sol.t, sol.y, 1)"
   ]
  },
  {
   "cell_type": "code",
   "execution_count": 122,
   "metadata": {},
   "outputs": [
    {
     "data": {
      "text/plain": [
       "array([[1.        ],\n",
       "       [1.02040746],\n",
       "       [1.04123139],\n",
       "       [1.06248028],\n",
       "       [1.08416281],\n",
       "       [1.10628782],\n",
       "       [1.12886641],\n",
       "       [1.15190877],\n",
       "       [1.17542337],\n",
       "       [1.19941898],\n",
       "       [1.22390466],\n",
       "       [1.24888976],\n",
       "       [1.27438395],\n",
       "       [1.30039717],\n",
       "       [1.32693968],\n",
       "       [1.35402203],\n",
       "       [1.38165506],\n",
       "       [1.40984992],\n",
       "       [1.43861805],\n",
       "       [1.46797117],\n",
       "       [1.49792134],\n",
       "       [1.52848088],\n",
       "       [1.55966241],\n",
       "       [1.59147888],\n",
       "       [1.62394349],\n",
       "       [1.65706978],\n",
       "       [1.69087156],\n",
       "       [1.72536295],\n",
       "       [1.76055835],\n",
       "       [1.79647249],\n",
       "       [1.83312037],\n",
       "       [1.87051729],\n",
       "       [1.90867885],\n",
       "       [1.94762096],\n",
       "       [1.98735982],\n",
       "       [2.02791191],\n",
       "       [2.06929403],\n",
       "       [2.11152326],\n",
       "       [2.154617  ],\n",
       "       [2.19859293],\n",
       "       [2.24346902],\n",
       "       [2.28926356],\n",
       "       [2.33599512],\n",
       "       [2.38368258],\n",
       "       [2.43234509],\n",
       "       [2.48200214],\n",
       "       [2.53267348],\n",
       "       [2.58437918],\n",
       "       [2.63713959],\n",
       "       [2.69097537],\n",
       "       [2.74590748],\n",
       "       [2.80195717],\n",
       "       [2.85914598],\n",
       "       [2.9174962 ],\n",
       "       [2.9770413 ],\n",
       "       [3.03780826],\n",
       "       [3.09981963],\n",
       "       [3.16309876],\n",
       "       [3.22766974],\n",
       "       [3.29355747],\n",
       "       [3.36078757],\n",
       "       [3.42938646],\n",
       "       [3.49938133],\n",
       "       [3.57080013],\n",
       "       [3.64367159],\n",
       "       [3.71802519],\n",
       "       [3.7938912 ],\n",
       "       [3.87130065],\n",
       "       [3.95028534],\n",
       "       [4.03087784],\n",
       "       [4.11311149],\n",
       "       [4.1970204 ],\n",
       "       [4.28263945],\n",
       "       [4.37000429],\n",
       "       [4.45915134],\n",
       "       [4.55011778],\n",
       "       [4.64294158],\n",
       "       [4.73766145],\n",
       "       [4.8343169 ],\n",
       "       [4.9329482 ],\n",
       "       [5.03359637],\n",
       "       [5.13630323],\n",
       "       [5.24111135],\n",
       "       [5.34806407],\n",
       "       [5.45720551],\n",
       "       [5.56858054],\n",
       "       [5.68223483],\n",
       "       [5.7982148 ],\n",
       "       [5.91656764],\n",
       "       [6.0373413 ],\n",
       "       [6.16058453],\n",
       "       [6.28634682],\n",
       "       [6.41467845],\n",
       "       [6.54563044],\n",
       "       [6.67925462],\n",
       "       [6.81560357],\n",
       "       [6.95473062],\n",
       "       [7.0966899 ],\n",
       "       [7.2415363 ],\n",
       "       [7.38932547]])"
      ]
     },
     "execution_count": 122,
     "metadata": {},
     "output_type": "execute_result"
    }
   ],
   "source": [
    "sol.y.T"
   ]
  },
  {
   "cell_type": "code",
   "execution_count": null,
   "metadata": {},
   "outputs": [],
   "source": []
  }
 ],
 "metadata": {
  "kernelspec": {
   "display_name": "Python 3",
   "language": "python",
   "name": "python3"
  },
  "language_info": {
   "codemirror_mode": {
    "name": "ipython",
    "version": 3
   },
   "file_extension": ".py",
   "mimetype": "text/x-python",
   "name": "python",
   "nbconvert_exporter": "python",
   "pygments_lexer": "ipython3",
   "version": "3.6.5"
  }
 },
 "nbformat": 4,
 "nbformat_minor": 4
}
